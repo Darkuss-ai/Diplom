{
 "cells": [
  {
   "cell_type": "code",
   "execution_count": 1,
   "id": "37061344",
   "metadata": {},
   "outputs": [
    {
     "name": "stdout",
     "output_type": "stream",
     "text": [
      "lol\n"
     ]
    }
   ],
   "source": [
    "import algorithms as algo\n",
    "\n",
    "\n",
    "def generate_A(numb, bit_depth):\n",
    "    for i in range(len(numb), bit_depth + 1):\n",
    "        numb.append(\"0\")\n",
    "    return numb\n",
    "\n",
    "\n",
    "def generate_S(numb, bit_depth):\n",
    "    for i in range(len(numb), bit_depth + 1):\n",
    "        numb.append(\"0\")\n",
    "    return numb\n",
    "\n",
    "\n",
    "def generate_P(numb, bit_depth):\n",
    "    # zero_len = bit_depth - len(numb)\n",
    "    # P = ['0' for i in range(zero_len)]\n",
    "    # for i in numb:\n",
    "    #     P.append(i)\n",
    "    # P.append(\"0\")\n",
    "    P = [\"0\" for i in range(bit_depth + 1)]\n",
    "    return P\n",
    "\n",
    "\n",
    "def Boota():\n",
    "    algo.bit_depth = 6\n",
    "\n",
    "    M = 21\n",
    "    R = 16\n",
    "\n",
    "    m = algo.convert(M)\n",
    "    r = algo.convert(R)\n",
    "    minus_m = algo.dop(-M)\n",
    "\n",
    "    print(m, minus_m, r)\n",
    "\n",
    "    algo.bit_depth = algo.bit_depth * 2 - 1\n",
    "\n",
    "    A = generate_A(m.copy(), algo.bit_depth)\n",
    "    S = generate_S(minus_m.copy(), algo.bit_depth)\n",
    "    P = generate_P(r.copy(), algo.bit_depth)\n",
    "\n",
    "    print(A, S, P)\n",
    "    x = len(r) - 2\n",
    "    y = len(r)\n",
    "    for i in range(len(r) - 2):\n",
    "        if i == 0:\n",
    "            two_bits = r[x:]\n",
    "            print(two_bits)\n",
    "\n",
    "        else:\n",
    "            two_bits = r[x:y]\n",
    "            print(two_bits)\n",
    "\n",
    "        if two_bits == [\"1\", \"0\"]:\n",
    "            P = algo.addition(P, S, algo.bit_depth, kr=3)\n",
    "\n",
    "        elif two_bits == [\"0\", \"1\"]:\n",
    "            P = algo.addition(P, A, algo.bit_depth, kr=3)\n",
    "\n",
    "        if i != len(m) - 1:\n",
    "            P = algo.shift(P, \"str\" if P[0] == '0' else \"rev\", -1)\n",
    "        x = x - 1\n",
    "        y = y - 1\n",
    "\n",
    "    P.pop()\n",
    "    print(P)\n",
    "    result = algo.convert(algo.reverse(P)) - 1 if P[0] == \"1\" else algo.convert(P)\n",
    "    print(str(result) + '/' + str(2 ** (algo.bit_depth - 1)))"
   ]
  },
  {
   "cell_type": "code",
   "execution_count": 12,
   "id": "19993b83",
   "metadata": {},
   "outputs": [
    {
     "name": "stdout",
     "output_type": "stream",
     "text": [
      "['0', '1', '0', '0', '1', '0', '1', '0', '0', '1']\n",
      "['0', '0', '0', '0', '0', '0', '0', '0', '0']\n"
     ]
    }
   ],
   "source": [
    "X = ['0', '1', '0', '0', '1']\n",
    "minX = algo.Fullreverse(X) + algo.addition(algo.Fullreverse(X), [1], len(X), kr=3)\n",
    "print(minX)\n",
    "Y = ['0', '1', '1', '0', '1']\n",
    "S = ['0' for i in range(len(X) * 2 - 1)]\n",
    "\n",
    "print(S)\n",
    "\n"
   ]
  },
  {
   "cell_type": "code",
   "execution_count": null,
   "id": "acb352b6",
   "metadata": {},
   "outputs": [],
   "source": []
  }
 ],
 "metadata": {
  "kernelspec": {
   "display_name": "Python 3 (ipykernel)",
   "language": "python",
   "name": "python3"
  },
  "language_info": {
   "codemirror_mode": {
    "name": "ipython",
    "version": 3
   },
   "file_extension": ".py",
   "mimetype": "text/x-python",
   "name": "python",
   "nbconvert_exporter": "python",
   "pygments_lexer": "ipython3",
   "version": "3.10.7"
  }
 },
 "nbformat": 4,
 "nbformat_minor": 5
}
